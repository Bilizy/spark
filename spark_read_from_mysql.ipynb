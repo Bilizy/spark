{
 "cells": [
  {
   "cell_type": "code",
   "execution_count": 1,
   "metadata": {},
   "outputs": [],
   "source": [
    "from pyspark.sql import SparkSession\n",
    "from pyspark.sql import SQLContext"
   ]
  },
  {
   "cell_type": "code",
   "execution_count": 2,
   "metadata": {},
   "outputs": [],
   "source": [
    "sc = SparkSession.builder.appName(\"read_mysql\").getOrCreate()"
   ]
  },
  {
   "cell_type": "code",
   "execution_count": 3,
   "metadata": {},
   "outputs": [],
   "source": [
    "ctx = SQLContext(sc)"
   ]
  },
  {
   "cell_type": "code",
   "execution_count": 4,
   "metadata": {},
   "outputs": [],
   "source": [
    "url = 'jdbc:mysql://localhost:3306/spark_db?user=spark&password=sparkpw'\n",
    "# useUnicode=true&characterEncoding=GBK"
   ]
  },
  {
   "cell_type": "code",
   "execution_count": 5,
   "metadata": {},
   "outputs": [
    {
     "name": "stdout",
     "output_type": "stream",
     "text": [
      "CPU times: user 3.27 ms, sys: 1.87 ms, total: 5.13 ms\n",
      "Wall time: 2.05 s\n"
     ]
    }
   ],
   "source": [
    "%%time\n",
    "df_r = ctx.read.format('jdbc')\\\n",
    "    .option(\"url\",url + '&rewriteBatchedStatements=true')\\\n",
    "    .option('fetchsize',10000)\\\n",
    "    .option(\"driver\",\"com.mysql.jdbc.Driver\")\\\n",
    "    .option(\"numPartitions\",20)\\\n",
    "    .option(\"partitionColumn\",\"shop_id\")\\\n",
    "    .option(\"lowerBound\", \"0\")\\\n",
    "    .option(\"upperBound\",\"2000\")\\\n",
    "    .option(\"dbtable\", \"sales22\").load()"
   ]
  },
  {
   "cell_type": "code",
   "execution_count": 6,
   "metadata": {},
   "outputs": [
    {
     "name": "stdout",
     "output_type": "stream",
     "text": [
      "root\n",
      " |-- date: timestamp (nullable = true)\n",
      " |-- date_block_num: integer (nullable = true)\n",
      " |-- shop_id: integer (nullable = true)\n",
      " |-- item_id: integer (nullable = true)\n",
      " |-- item_price: double (nullable = true)\n",
      " |-- item_cnt_day: double (nullable = true)\n",
      "\n"
     ]
    }
   ],
   "source": [
    "df_r.printSchema()"
   ]
  },
  {
   "cell_type": "code",
   "execution_count": 7,
   "metadata": {},
   "outputs": [
    {
     "name": "stdout",
     "output_type": "stream",
     "text": [
      "CPU times: user 2.62 ms, sys: 2.35 ms, total: 4.97 ms\n",
      "Wall time: 25.4 s\n"
     ]
    },
    {
     "data": {
      "text/plain": [
       "5871698"
      ]
     },
     "execution_count": 7,
     "metadata": {},
     "output_type": "execute_result"
    }
   ],
   "source": [
    "%%time\n",
    "df_r.count()"
   ]
  },
  {
   "cell_type": "code",
   "execution_count": 11,
   "metadata": {},
   "outputs": [],
   "source": [
    "df_r.createOrReplaceTempView('sales11')"
   ]
  },
  {
   "cell_type": "code",
   "execution_count": 13,
   "metadata": {},
   "outputs": [
    {
     "name": "stdout",
     "output_type": "stream",
     "text": [
      "+-------------------+--------------+-------+-------+----------+------------+\n",
      "|               date|date_block_num|shop_id|item_id|item_price|item_cnt_day|\n",
      "+-------------------+--------------+-------+-------+----------+------------+\n",
      "|2013-01-14 00:00:00|             0|      1|   8070|     137.0|         1.0|\n",
      "|2013-01-20 00:00:00|             0|      1|  11415|      70.0|         1.0|\n",
      "|2013-01-11 00:00:00|             0|      1|  11435|     110.0|         1.0|\n",
      "|2013-01-29 00:00:00|             0|      1|  11441|      75.0|         1.0|\n",
      "|2013-01-20 00:00:00|             0|      1|  11450|     249.0|         1.0|\n",
      "|2013-01-19 00:00:00|             0|      1|  11454|      77.0|         1.0|\n",
      "|2013-01-14 00:00:00|             0|      1|  11464|      76.0|         1.0|\n",
      "|2013-01-27 00:00:00|             0|      1|  11464|      76.0|         1.0|\n",
      "|2013-01-09 00:00:00|             0|      1|  11481|      69.0|         1.0|\n",
      "|2013-01-10 00:00:00|             0|      1|  11481|      69.0|         1.0|\n",
      "|2013-01-21 00:00:00|             0|      1|  11484|      77.0|         1.0|\n",
      "|2013-01-26 00:00:00|             0|      1|  11485|     615.0|         1.0|\n",
      "|2013-01-13 00:00:00|             0|      1|  11493|     231.0|         1.0|\n",
      "|2013-01-23 00:00:00|             0|      1|  11499|      77.0|         1.0|\n",
      "|2013-01-13 00:00:00|             0|      1|  11513|     231.0|         1.0|\n",
      "|2013-01-19 00:00:00|             0|      1|  11576|      77.0|         1.0|\n",
      "|2013-01-09 00:00:00|             0|      1|  11577|      77.0|         1.0|\n",
      "|2013-01-21 00:00:00|             0|      1|  11589|     268.0|         1.0|\n",
      "|2013-01-03 00:00:00|             0|      1|  11598|      69.0|         1.0|\n",
      "|2013-01-05 00:00:00|             0|      1|  11604|     231.0|         1.0|\n",
      "+-------------------+--------------+-------+-------+----------+------------+\n",
      "only showing top 20 rows\n",
      "\n",
      "CPU times: user 1.7 ms, sys: 1.55 ms, total: 3.25 ms\n",
      "Wall time: 6.26 s\n"
     ]
    }
   ],
   "source": [
    "%%time\n",
    "spark.sql(\"\"\"\n",
    "select * from sales11 \n",
    "where shop_id=1\n",
    "limit 100\n",
    "\"\"\").show()"
   ]
  },
  {
   "cell_type": "code",
   "execution_count": null,
   "metadata": {},
   "outputs": [],
   "source": [
    "%%time\n",
    "df_r.write.format('orc').mode('overwrite').saveAsTable('sales')"
   ]
  },
  {
   "cell_type": "code",
   "execution_count": null,
   "metadata": {},
   "outputs": [],
   "source": []
  }
 ],
 "metadata": {
  "kernelspec": {
   "display_name": "Python 3",
   "language": "python",
   "name": "python3"
  },
  "language_info": {
   "codemirror_mode": {
    "name": "ipython",
    "version": 3
   },
   "file_extension": ".py",
   "mimetype": "text/x-python",
   "name": "python",
   "nbconvert_exporter": "python",
   "pygments_lexer": "ipython3",
   "version": "3.7.6"
  }
 },
 "nbformat": 4,
 "nbformat_minor": 4
}
