{
 "cells": [
  {
   "cell_type": "code",
   "execution_count": 1,
   "metadata": {},
   "outputs": [],
   "source": [
    "from pyspark.sql import functions as F\n",
    "from pyspark.sql.types import FloatType, TimestampType, StringType, StructType, StructField, IntegerType\n",
    "from pyspark.sql.window import Window\n",
    "\n",
    "from pyspark.sql.functions import array, col, explode, lit, struct\n",
    "from pyspark.sql import DataFrame\n",
    "from typing import Iterable "
   ]
  },
  {
   "cell_type": "code",
   "execution_count": 2,
   "metadata": {},
   "outputs": [],
   "source": [
    "spark.conf.set(\"spark.sql.session.timeZone\", 'Asia/Shanghai')"
   ]
  },
  {
   "cell_type": "code",
   "execution_count": 3,
   "metadata": {},
   "outputs": [],
   "source": [
    "spark = SparkSession.builder.appName('demo-app').getOrCreate()"
   ]
  },
  {
   "cell_type": "code",
   "execution_count": 4,
   "metadata": {},
   "outputs": [],
   "source": [
    "schema = StructType([\n",
    "    StructField(\"date\", StringType(), True), # nullable=True, this field can not be null\n",
    "    StructField(\"date_block_num\", IntegerType(), True),\n",
    "    StructField(\"shop_id\", IntegerType(), True),\n",
    "    StructField(\"item_id\", IntegerType(), True),\n",
    "    StructField(\"item_price\", FloatType(), True),\n",
    "    StructField(\"item_cnt_day\", FloatType(), True),\n",
    "])"
   ]
  },
  {
   "cell_type": "code",
   "execution_count": 5,
   "metadata": {},
   "outputs": [
    {
     "name": "stdout",
     "output_type": "stream",
     "text": [
      "CPU times: user 3.54 ms, sys: 2.21 ms, total: 5.75 ms\n",
      "Wall time: 3.93 s\n"
     ]
    },
    {
     "data": {
      "text/plain": [
       "2935849"
      ]
     },
     "execution_count": 5,
     "metadata": {},
     "output_type": "execute_result"
    }
   ],
   "source": [
    "%%time\n",
    "df = spark.read.option('header', 'True').csv('data/sales_train.csv', schema=schema)\n",
    "df.count()"
   ]
  },
  {
   "cell_type": "code",
   "execution_count": 6,
   "metadata": {},
   "outputs": [
    {
     "name": "stdout",
     "output_type": "stream",
     "text": [
      "root\n",
      " |-- date: string (nullable = true)\n",
      " |-- date_block_num: integer (nullable = true)\n",
      " |-- shop_id: integer (nullable = true)\n",
      " |-- item_id: integer (nullable = true)\n",
      " |-- item_price: float (nullable = true)\n",
      " |-- item_cnt_day: float (nullable = true)\n",
      "\n"
     ]
    }
   ],
   "source": [
    "df.printSchema()"
   ]
  },
  {
   "cell_type": "code",
   "execution_count": 7,
   "metadata": {},
   "outputs": [
    {
     "name": "stdout",
     "output_type": "stream",
     "text": [
      "+----------+--------------+-------+-------+----------+------------+\n",
      "|      date|date_block_num|shop_id|item_id|item_price|item_cnt_day|\n",
      "+----------+--------------+-------+-------+----------+------------+\n",
      "|02.01.2013|             0|     59|  22154|     999.0|         1.0|\n",
      "|03.01.2013|             0|     25|   2552|     899.0|         1.0|\n",
      "|05.01.2013|             0|     25|   2552|     899.0|        -1.0|\n",
      "|06.01.2013|             0|     25|   2554|   1709.05|         1.0|\n",
      "|15.01.2013|             0|     25|   2555|    1099.0|         1.0|\n",
      "+----------+--------------+-------+-------+----------+------------+\n",
      "only showing top 5 rows\n",
      "\n"
     ]
    }
   ],
   "source": [
    "df.show(5)"
   ]
  },
  {
   "cell_type": "code",
   "execution_count": 8,
   "metadata": {},
   "outputs": [
    {
     "name": "stdout",
     "output_type": "stream",
     "text": [
      "root\n",
      " |-- date: timestamp (nullable = true)\n",
      " |-- date_block_num: integer (nullable = true)\n",
      " |-- shop_id: integer (nullable = true)\n",
      " |-- item_id: integer (nullable = true)\n",
      " |-- item_price: float (nullable = true)\n",
      " |-- item_cnt_day: float (nullable = true)\n",
      "\n"
     ]
    }
   ],
   "source": [
    "df = df.withColumn('date', F.from_unixtime(F.unix_timestamp('date', 'dd.MM.yyyy')).cast('timestamp'))\n",
    "df.printSchema()"
   ]
  },
  {
   "cell_type": "code",
   "execution_count": 9,
   "metadata": {},
   "outputs": [
    {
     "name": "stdout",
     "output_type": "stream",
     "text": [
      "+-------------------+--------------+-------+-------+----------+------------+\n",
      "|               date|date_block_num|shop_id|item_id|item_price|item_cnt_day|\n",
      "+-------------------+--------------+-------+-------+----------+------------+\n",
      "|2013-01-02 00:00:00|             0|     59|  22154|     999.0|         1.0|\n",
      "|2013-01-03 00:00:00|             0|     25|   2552|     899.0|         1.0|\n",
      "|2013-01-05 00:00:00|             0|     25|   2552|     899.0|        -1.0|\n",
      "|2013-01-06 00:00:00|             0|     25|   2554|   1709.05|         1.0|\n",
      "|2013-01-15 00:00:00|             0|     25|   2555|    1099.0|         1.0|\n",
      "+-------------------+--------------+-------+-------+----------+------------+\n",
      "only showing top 5 rows\n",
      "\n"
     ]
    }
   ],
   "source": [
    "df.show(5)"
   ]
  },
  {
   "cell_type": "code",
   "execution_count": 10,
   "metadata": {},
   "outputs": [],
   "source": [
    "def melt(\n",
    "        df: DataFrame, \n",
    "        id_vars: Iterable[str], value_vars: Iterable[str], \n",
    "        var_name: str=\"variable\", value_name: str=\"value\") -> DataFrame:\n",
    "    \"\"\"Convert :class:`DataFrame` from wide to long format.\"\"\"\n",
    "\n",
    "    # Create array<struct<variable: str, value: ...>>\n",
    "    _vars_and_vals = array(*(\n",
    "        struct(lit(c).alias(var_name), col(c).alias(value_name)) \n",
    "        for c in value_vars))\n",
    "\n",
    "    # Add to the DataFrame and explode\n",
    "    _tmp = df.withColumn(\"_vars_and_vals\", explode(_vars_and_vals))\n",
    "\n",
    "    cols = id_vars + [\n",
    "            col(\"_vars_and_vals\")[x].alias(x) for x in [var_name, value_name]]\n",
    "    return _tmp.select(*cols)"
   ]
  },
  {
   "cell_type": "code",
   "execution_count": 11,
   "metadata": {},
   "outputs": [
    {
     "name": "stdout",
     "output_type": "stream",
     "text": [
      "5871698\n",
      "+-------------------+--------------+-------+-------+------------+-----+\n",
      "|               date|date_block_num|shop_id|item_id|    variable|value|\n",
      "+-------------------+--------------+-------+-------+------------+-----+\n",
      "|2013-01-02 00:00:00|             0|     59|  22154|  item_price|999.0|\n",
      "|2013-01-02 00:00:00|             0|     59|  22154|item_cnt_day|  1.0|\n",
      "|2013-01-03 00:00:00|             0|     25|   2552|  item_price|899.0|\n",
      "|2013-01-03 00:00:00|             0|     25|   2552|item_cnt_day|  1.0|\n",
      "|2013-01-05 00:00:00|             0|     25|   2552|  item_price|899.0|\n",
      "+-------------------+--------------+-------+-------+------------+-----+\n",
      "only showing top 5 rows\n",
      "\n"
     ]
    }
   ],
   "source": [
    "df2 = melt(df, id_vars=['date', 'date_block_num', 'shop_id', 'item_id'], value_vars=['item_price', 'item_cnt_day'])\n",
    "print(df2.count())\n",
    "df2.show(5)"
   ]
  },
  {
   "cell_type": "code",
   "execution_count": 12,
   "metadata": {},
   "outputs": [
    {
     "data": {
      "text/plain": [
       "\"\\nfrom pyspark.sql.functions import when\\n\\ndf2 = df.withColumn('cond', \\n              when(df.MSZoning=='RH', 'RH_cond').\\n              when(df.MSZoning=='FV', 'FV_cond').\\n              when(df.MSZoning=='RL', 'RL_cond').\\n              otherwise(' ')\\n             )\\n\""
      ]
     },
     "execution_count": 12,
     "metadata": {},
     "output_type": "execute_result"
    }
   ],
   "source": [
    "\"\"\"\n",
    "from pyspark.sql.functions import when\n",
    "\n",
    "df2 = df.withColumn('cond', \n",
    "              when(df.MSZoning=='RH', 'RH_cond').\n",
    "              when(df.MSZoning=='FV', 'FV_cond').\n",
    "              when(df.MSZoning=='RL', 'RL_cond').\n",
    "              otherwise(' ')\n",
    "             )\n",
    "\"\"\""
   ]
  },
  {
   "cell_type": "code",
   "execution_count": 13,
   "metadata": {},
   "outputs": [
    {
     "name": "stdout",
     "output_type": "stream",
     "text": [
      "CPU times: user 2.95 ms, sys: 2.28 ms, total: 5.23 ms\n",
      "Wall time: 16.6 s\n"
     ]
    }
   ],
   "source": [
    "%%time\n",
    "df2.write.format('orc').mode('overwrite').saveAsTable('sales')"
   ]
  },
  {
   "cell_type": "code",
   "execution_count": 14,
   "metadata": {},
   "outputs": [
    {
     "name": "stdout",
     "output_type": "stream",
     "text": [
      "+-------------------+--------------+-------+-------+------------+-------+\n",
      "|               date|date_block_num|shop_id|item_id|    variable|  value|\n",
      "+-------------------+--------------+-------+-------+------------+-------+\n",
      "|2013-01-02 00:00:00|             0|     59|  22154|  item_price|  999.0|\n",
      "|2013-01-02 00:00:00|             0|     59|  22154|item_cnt_day|    1.0|\n",
      "|2013-01-03 00:00:00|             0|     25|   2552|  item_price|  899.0|\n",
      "|2013-01-03 00:00:00|             0|     25|   2552|item_cnt_day|    1.0|\n",
      "|2013-01-05 00:00:00|             0|     25|   2552|  item_price|  899.0|\n",
      "|2013-01-05 00:00:00|             0|     25|   2552|item_cnt_day|   -1.0|\n",
      "|2013-01-06 00:00:00|             0|     25|   2554|  item_price|1709.05|\n",
      "|2013-01-06 00:00:00|             0|     25|   2554|item_cnt_day|    1.0|\n",
      "|2013-01-15 00:00:00|             0|     25|   2555|  item_price| 1099.0|\n",
      "|2013-01-15 00:00:00|             0|     25|   2555|item_cnt_day|    1.0|\n",
      "|2013-01-10 00:00:00|             0|     25|   2564|  item_price|  349.0|\n",
      "|2013-01-10 00:00:00|             0|     25|   2564|item_cnt_day|    1.0|\n",
      "|2013-01-02 00:00:00|             0|     25|   2565|  item_price|  549.0|\n",
      "|2013-01-02 00:00:00|             0|     25|   2565|item_cnt_day|    1.0|\n",
      "|2013-01-04 00:00:00|             0|     25|   2572|  item_price|  239.0|\n",
      "|2013-01-04 00:00:00|             0|     25|   2572|item_cnt_day|    1.0|\n",
      "|2013-01-11 00:00:00|             0|     25|   2572|  item_price|  299.0|\n",
      "|2013-01-11 00:00:00|             0|     25|   2572|item_cnt_day|    1.0|\n",
      "|2013-01-03 00:00:00|             0|     25|   2573|  item_price|  299.0|\n",
      "|2013-01-03 00:00:00|             0|     25|   2573|item_cnt_day|    3.0|\n",
      "+-------------------+--------------+-------+-------+------------+-------+\n",
      "only showing top 20 rows\n",
      "\n",
      "CPU times: user 1.3 ms, sys: 1.25 ms, total: 2.55 ms\n",
      "Wall time: 1.25 s\n"
     ]
    }
   ],
   "source": [
    "%%time\n",
    "spark.sql(\"\"\"\n",
    "select * from sales limit 100\n",
    "\"\"\").show()"
   ]
  },
  {
   "cell_type": "code",
   "execution_count": 15,
   "metadata": {},
   "outputs": [
    {
     "name": "stdout",
     "output_type": "stream",
     "text": [
      "CPU times: user 16.5 ms, sys: 8.76 ms, total: 25.3 ms\n",
      "Wall time: 3min 11s\n"
     ]
    }
   ],
   "source": [
    "%%time\n",
    "url = 'jdbc:mysql://localhost:3306/spark_db?user=spark&password=sparkpw'\n",
    "# useUnicode=true&characterEncoding=GBK\n",
    "\n",
    "df.write.jdbc(\n",
    "    url=url,\n",
    "    mode=\"append\",\n",
    "    table=\"sales\",\n",
    "    properties={\"driver\": 'com.mysql.jdbc.Driver'})"
   ]
  },
  {
   "cell_type": "code",
   "execution_count": 16,
   "metadata": {},
   "outputs": [
    {
     "name": "stdout",
     "output_type": "stream",
     "text": [
      "CPU times: user 35.1 ms, sys: 19.3 ms, total: 54.4 ms\n",
      "Wall time: 7min 35s\n"
     ]
    }
   ],
   "source": [
    "%%time\n",
    "df.write.format('jdbc')\\\n",
    "    .option('url',url)\\\n",
    "    .option('mode',\"append\")\\\n",
    "    .option('dbtable',\"sales2\")\\\n",
    "    .option('batchsize',10000)\\\n",
    "    .option('isolationLevel',\"NONE\")\\\n",
    "    .option('driver','com.mysql.jdbc.Driver').save()"
   ]
  },
  {
   "cell_type": "code",
   "execution_count": 17,
   "metadata": {},
   "outputs": [
    {
     "name": "stdout",
     "output_type": "stream",
     "text": [
      "CPU times: user 5.66 ms, sys: 2.98 ms, total: 8.63 ms\n",
      "Wall time: 32.2 s\n"
     ]
    }
   ],
   "source": [
    "%%time\n",
    "df.write.mode('overwrite').format('jdbc')\\\n",
    "    .option('url',url + '&rewriteBatchedStatements=true')\\\n",
    "    .option('dbtable',\"sales22\")\\\n",
    "    .option('batchsize',10000)\\\n",
    "    .option('isolationLevel',\"NONE\")\\\n",
    "    .option('driver','com.mysql.jdbc.Driver')\\\n",
    "    .option(\"truncate\", \"true\").save()"
   ]
  },
  {
   "cell_type": "code",
   "execution_count": 18,
   "metadata": {},
   "outputs": [
    {
     "name": "stdout",
     "output_type": "stream",
     "text": [
      "CPU times: user 4.21 ms, sys: 2.69 ms, total: 6.89 ms\n",
      "Wall time: 31 s\n"
     ]
    }
   ],
   "source": [
    "%%time\n",
    "df.write.mode('append').format('jdbc')\\\n",
    "    .option('url',url + '&rewriteBatchedStatements=true')\\\n",
    "    .option('dbtable',\"sales22\")\\\n",
    "    .option('batchsize',10000)\\\n",
    "    .option('isolationLevel',\"NONE\")\\\n",
    "    .option('driver','com.mysql.jdbc.Driver').save()"
   ]
  },
  {
   "cell_type": "code",
   "execution_count": null,
   "metadata": {},
   "outputs": [],
   "source": []
  }
 ],
 "metadata": {
  "kernelspec": {
   "display_name": "Python 3",
   "language": "python",
   "name": "python3"
  },
  "language_info": {
   "codemirror_mode": {
    "name": "ipython",
    "version": 3
   },
   "file_extension": ".py",
   "mimetype": "text/x-python",
   "name": "python",
   "nbconvert_exporter": "python",
   "pygments_lexer": "ipython3",
   "version": "3.7.6"
  },
  "toc": {
   "base_numbering": 1,
   "nav_menu": {},
   "number_sections": true,
   "sideBar": true,
   "skip_h1_title": false,
   "title_cell": "Table of Contents",
   "title_sidebar": "Contents",
   "toc_cell": false,
   "toc_position": {},
   "toc_section_display": true,
   "toc_window_display": false
  }
 },
 "nbformat": 4,
 "nbformat_minor": 2
}
